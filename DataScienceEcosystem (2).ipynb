{
 "cells": [
  {
   "cell_type": "markdown",
   "id": "4783caa7-aa1c-401b-a2d9-b3566f1aec8f",
   "metadata": {},
   "source": [
    "#H1 Data Science Tools and Ecosystem"
   ]
  },
  {
   "cell_type": "markdown",
   "id": "7485e5da-0be4-44e1-96ef-e33aafdf3f7b",
   "metadata": {},
   "source": [
    "## H2 In this notebook, Data Science Tools and Ecosystem are summarized"
   ]
  },
  {
   "cell_type": "markdown",
   "id": "0e3fe7c7-dddb-4808-974b-a966afbb5939",
   "metadata": {},
   "source": [
    "## Some of the popular languages that Data Scientists use are:\n",
    "-Python\n",
    "-R\n",
    "-Java"
   ]
  },
  {
   "cell_type": "markdown",
   "id": "0490a063-803e-4abf-89e1-525de91dfb9e",
   "metadata": {},
   "source": [
    "## Some of the commonly used libraries used by Data Scientists include:-NumPy,- Matplotlib, -ggplot"
   ]
  },
  {
   "cell_type": "markdown",
   "id": "6a111210-13b8-4b3c-b7a6-23d6dab1d8c2",
   "metadata": {},
   "source": [
    "|Data Science Tools | \n",
    "| ------ |\n",
    "| Data Management  | \n",
    "|Data Integration and Transformation| \n",
    "| Data Visualization |\n"
   ]
  },
  {
   "cell_type": "markdown",
   "id": "4226680a-30bd-4eb7-9f97-e3cef0954dd6",
   "metadata": {},
   "source": [
    "### Below are a few examples of evaluating arithmetic expressions in Python"
   ]
  },
  {
   "cell_type": "code",
   "execution_count": 1,
   "id": "3e6e19df-1411-4917-a881-b52ee4d3151d",
   "metadata": {
    "tags": []
   },
   "outputs": [
    {
     "data": {
      "text/plain": [
       "17"
      ]
     },
     "execution_count": 1,
     "metadata": {},
     "output_type": "execute_result"
    }
   ],
   "source": [
    "# his a simple arithmetic expression to mutiply then add integers\n",
    "(3*4)+5"
   ]
  },
  {
   "cell_type": "code",
   "execution_count": 2,
   "id": "e6fdcb7d-52d8-4f2f-951e-3d0b2acdb265",
   "metadata": {
    "tags": []
   },
   "outputs": [
    {
     "data": {
      "text/plain": [
       "3.3333333333333335"
      ]
     },
     "execution_count": 2,
     "metadata": {},
     "output_type": "execute_result"
    }
   ],
   "source": [
    "# This will convert 200 minutes to hours by diving by 60\n",
    "200/60"
   ]
  },
  {
   "cell_type": "markdown",
   "id": "c1ba4411-c2db-4395-8ea4-6e9d2a20387f",
   "metadata": {},
   "source": [
    "# Objectives\n",
    "1. To be conversant with data science tools \n",
    "2. To know and operate at least three popular data science languages \n",
    "3. To Understand github\n",
    "4. To apply data science to financial inclusion measurement \n",
    "5. To collaborate with other data scientist "
   ]
  },
  {
   "cell_type": "markdown",
   "id": "8b6dfae5-6308-4cb1-b9f5-2d010aa09e0b",
   "metadata": {},
   "source": [
    "## Author\n",
    "Floyd Mwansa "
   ]
  },
  {
   "cell_type": "code",
   "execution_count": null,
   "id": "f1e5e886-a658-405f-a6f1-9f49628a3ecb",
   "metadata": {},
   "outputs": [],
   "source": []
  }
 ],
 "metadata": {
  "kernelspec": {
   "display_name": "Python 3 (ipykernel)",
   "language": "python",
   "name": "python3"
  },
  "language_info": {
   "codemirror_mode": {
    "name": "ipython",
    "version": 3
   },
   "file_extension": ".py",
   "mimetype": "text/x-python",
   "name": "python",
   "nbconvert_exporter": "python",
   "pygments_lexer": "ipython3",
   "version": "3.11.5"
  }
 },
 "nbformat": 4,
 "nbformat_minor": 5
}
